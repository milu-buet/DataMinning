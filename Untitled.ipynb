{
 "cells": [
  {
   "cell_type": "markdown",
   "metadata": {},
   "source": [
    "1. Pick a ransom hash function: h(x) masps x to y. They are both 64-bit integers\n",
    "\n",
    "2. x1, x2, ........\n",
    "\n",
    "3. R=0\n",
    "\n",
    "4. For each x, compute y = h(x). Compute Tail(y). If R < Tail(y), R = Tail(y).\n",
    "\n",
    "5. Return 2^R"
   ]
  },
  {
   "cell_type": "markdown",
   "metadata": {},
   "source": [
    "Example: \n",
    "If h(x) = 7 =111. Tail(7) = 0.\n",
    "If h(x) = 12 = 1100. Tail(12) = 2"
   ]
  },
  {
   "cell_type": "code",
   "execution_count": null,
   "metadata": {},
   "outputs": [],
   "source": []
  }
 ],
 "metadata": {
  "kernelspec": {
   "display_name": "Python 3",
   "language": "python",
   "name": "python3"
  },
  "language_info": {
   "codemirror_mode": {
    "name": "ipython",
    "version": 3
   },
   "file_extension": ".py",
   "mimetype": "text/x-python",
   "name": "python",
   "nbconvert_exporter": "python",
   "pygments_lexer": "ipython3",
   "version": "3.6.5"
  }
 },
 "nbformat": 4,
 "nbformat_minor": 2
}
