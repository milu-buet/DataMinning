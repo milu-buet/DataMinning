{
 "cells": [
  {
   "cell_type": "markdown",
   "metadata": {},
   "source": [
    "## COMP 7118 Assignment 3\n",
    "### DUE: 10/10/2018\n",
    "\n",
    "#### You are supposed to do this assignment by yourself.  You can discuss with your classmates.  But Python code must be written by you.  Read the plagiarism policy in the syllabus for additional information\n",
    "\n",
    "YOUR NAME: Md Lutfar Rahman\n",
    "\n",
    "\n",
    "In the following problems, use the retail dataset to test your solution.  You can use code we created in class.  However, you will have to create new code.  When you do, explain (for each problem) what you created and describe the idea of how things work (in English)."
   ]
  },
  {
   "cell_type": "markdown",
   "metadata": {},
   "source": [
    "1.  Implement the A-Priori Algorithm for finding frequent item sets containing 3 items.\n"
   ]
  },
  {
   "cell_type": "markdown",
   "metadata": {},
   "source": [
    "## ANS(1)\n",
    "I wrote a new method fis3(baskets, f2, threshold) in a_priori.py. Here, f2 holds frequent pairs. For each triple (a,b,c) with a<b<c, fis3 checks if pair (a,b), (b,c) and (a,c) are all in the f2 or not. If they all are in f2 then (a,b,c) is a possible frequent triple and count for it."
   ]
  },
  {
   "cell_type": "code",
   "execution_count": 3,
   "metadata": {},
   "outputs": [
    {
     "name": "stdout",
     "output_type": "stream",
     "text": [
      "Phase 1 begins with threshold 440.81\n",
      "There are 221 sets.\n",
      "\n",
      "Phase 2 begins with threshold 440.81\n",
      "There are 237 sets. \n",
      "\n",
      "Phase 3 begins with threshold 440.81\n",
      "There are 102 sets.\n",
      "\n"
     ]
    }
   ],
   "source": [
    "import a_priori\n",
    "DATA_FILE = 'retail.txt'\n",
    "a_priori.a_priori(DATA_FILE)"
   ]
  },
  {
   "cell_type": "markdown",
   "metadata": {},
   "source": [
    "\n",
    "2.  Implement the PCY Algorithm for finding frequent item sets containing 3 items.  Your algorithm should use modified Bloom filters (hash table) to pre-filter frequent item sets containing 2 items, and containing 3 items."
   ]
  },
  {
   "cell_type": "markdown",
   "metadata": {},
   "source": [
    "## ANS(2)\n",
    " I wrote a new method fis3(baskets, f2, cf_2, threshold) in pcy.py. Here f2 holds frequent pairs and cf_2 holds hashed triple's count. I wrote a new class CountTriple in CountFilter.py. The method fis2(baskets, f1, cf, threshold) has been modified to accommodate CountTriple's job. For each triple (a,b,c) with a<b<c, fis3 checks if (a,b,c) is in cf_2 and  if pair (a,b), (b,c) and (a,c) are all in the f2 or not. If they all are in f2 then (a,b,c) is a possible frequent triple and count for it."
   ]
  },
  {
   "cell_type": "code",
   "execution_count": 4,
   "metadata": {},
   "outputs": [
    {
     "name": "stdout",
     "output_type": "stream",
     "text": [
      "Phase 1 begins with threshold 440.81\n",
      "There are 221 sets.\n",
      "\n",
      "Phase 2 begins with threshold 440.81\n",
      "There are 237 sets.  Threshold is 440.81\n",
      "We only look at fewer than 441 items.\n",
      "\n",
      "Phase 3 begins with threshold 440.81\n",
      "There are 102 sets.  Threshold is 440.81\n",
      "We only look at fewer than 99836 items.\n"
     ]
    }
   ],
   "source": [
    "import pcy\n",
    "DATA_FILE = 'retail.txt'\n",
    "pcy.pcy(DATA_FILE)"
   ]
  }
 ],
 "metadata": {
  "kernelspec": {
   "display_name": "Python 3",
   "language": "python",
   "name": "python3"
  },
  "language_info": {
   "codemirror_mode": {
    "name": "ipython",
    "version": 3
   },
   "file_extension": ".py",
   "mimetype": "text/x-python",
   "name": "python",
   "nbconvert_exporter": "python",
   "pygments_lexer": "ipython3",
   "version": "3.6.6"
  }
 },
 "nbformat": 4,
 "nbformat_minor": 2
}
