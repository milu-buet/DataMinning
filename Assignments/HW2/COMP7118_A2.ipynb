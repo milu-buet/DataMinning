{
 "cells": [
  {
   "cell_type": "markdown",
   "metadata": {},
   "source": [
    "## COMP 7118 Assignment 2\n",
    "### DUE: 9/27/2018\n",
    "\n",
    "#### You are supposed to do this assignment by yourself.  You can discuss with your classmates.  But Python code must be written by you.  Read the plagiarism policy in the syllabus for additional information\n",
    "\n",
    "\n"
   ]
  },
  {
   "cell_type": "markdown",
   "metadata": {},
   "source": [
    "### Rationale\n",
    "\n",
    "In this assignment, you are presented with a fictional scenario, in which you need to build a Bloom filter to detect dangerous viral DNAs, given limited amount of storage.\n",
    "\n",
    "Imagine you have to build a device with DNA sensors. The device is deployed in remote location without much power (other than solar) and resources (not a lot of computing power and RAM).\n",
    "\n",
    "The device constantly gets DNA inputs from the environment via its sensors.  And if it detects a known dangerous virus, it will send a signal back to the control station, alerting people of the danger."
   ]
  },
  {
   "cell_type": "markdown",
   "metadata": {},
   "source": [
    "It is best for this assignment that you write your Python code in an external file, and demonstrate how to use it in this Jupyter notebook."
   ]
  },
  {
   "cell_type": "markdown",
   "metadata": {},
   "source": [
    "## YOUR NAME: Md Lutfar Rahman"
   ]
  },
  {
   "cell_type": "markdown",
   "metadata": {},
   "source": [
    "**(1)** Write a Python class called BloomFilter, with a constructor that takes as input a list of n DNA strings (of the virus) and a desirable false positive error probability p.  Assume that each string has a length L.\n",
    "\n",
    "Your task is to derive the number of bits, m, and the number of hash functions, k, to the strings and achieve the given false positive probability.\n",
    "\n",
    "Show your calculation and Python code.\n",
    "\n",
    "\n"
   ]
  },
  {
   "cell_type": "markdown",
   "metadata": {},
   "source": [
    "Note on optimal parameters for Bloom filters. Given n items and an m-bit array, the optimal value for the number of hash functions is $k = {m \\over n} \\cdot ln(2)$.  This results in a false positive probability of approximately ${1 \\over 2}^{{m \\over n} \\cdot ln(2)}$.\n",
    "\n",
    "You can use the bitarray module that comes with Anaconda.  See below:\n",
    "\n",
    "\n"
   ]
  },
  {
   "cell_type": "markdown",
   "metadata": {},
   "source": [
    "## ANS(1): \n",
    "number of bits, $m = {n\\ln{p} \\over {\\ln{2} \\ln{0.5}}} $  \n",
    "the number of hash functions, $k = {m \\over n} \\cdot ln(2)$  "
   ]
  },
  {
   "cell_type": "code",
   "execution_count": 1,
   "metadata": {},
   "outputs": [
    {
     "name": "stdout",
     "output_type": "stream",
     "text": [
      "3349 2\n"
     ]
    }
   ],
   "source": [
    "#ANS(1):(code)\n",
    "from solution import *\n",
    "n = 1000\n",
    "L = 100\n",
    "p = .20\n",
    "DNAs = generate_random_dnas(n, L)\n",
    "\n",
    "bloomfilter = BloomFilter(DNAs, p)\n",
    "m, k = bloomfilter.get_m_k(n, p)\n",
    "\n",
    "print(m,k)"
   ]
  },
  {
   "cell_type": "markdown",
   "metadata": {},
   "source": [
    "**(2)** Write a function that generates a random DNA of length L. Demonstrate how to use this method."
   ]
  },
  {
   "cell_type": "markdown",
   "metadata": {},
   "source": [
    "## ANS(2)"
   ]
  },
  {
   "cell_type": "code",
   "execution_count": 2,
   "metadata": {},
   "outputs": [
    {
     "name": "stdout",
     "output_type": "stream",
     "text": [
      "GAATATAAGA\n"
     ]
    }
   ],
   "source": [
    "#ANS(2)\n",
    "L = 10\n",
    "print(generate_random_dna(L))"
   ]
  },
  {
   "cell_type": "markdown",
   "metadata": {},
   "source": [
    "**(3)** Write a method that generates k random hash functions for DNA strings of length L.  Before you do that, you must describe in English clearly how to construct each hash function.  The idea is to map a string of characters A, C, G, and T (think of them as 0, 1, 2, and 3) to a random number between 1 and m.\n",
    "\n",
    "This problem requires some reasoning, not just coding."
   ]
  },
  {
   "cell_type": "markdown",
   "metadata": {},
   "source": [
    "## ANS(3)\n",
    "I converted each dna to a number by considering A, C, G, and T as 0,1,2,3. Then converted it as a decimal number. The idea is same as in our assignment 1. Then this number is passed to the hash functions. The basic sructure of the hash function is same as we did in the class. The only difference here is, I needed to fix different snapshots of a and b for each hash functions."
   ]
  },
  {
   "cell_type": "code",
   "execution_count": 3,
   "metadata": {},
   "outputs": [
    {
     "data": {
      "text/plain": [
       "672"
      ]
     },
     "execution_count": 3,
     "metadata": {},
     "output_type": "execute_result"
    }
   ],
   "source": [
    "#ANS(3)\n",
    "hashes = bloomfilter.generate_k_hash_functions(k, m)\n",
    "hashes[0]('ACCCATGCCA')"
   ]
  },
  {
   "cell_type": "markdown",
   "metadata": {},
   "source": [
    "**(4)** Write a method that inserts a DNA string of length L into the Bloom filter.  Demonstrate how to use this method with actual Python code."
   ]
  },
  {
   "cell_type": "markdown",
   "metadata": {},
   "source": [
    "## ANS(4)"
   ]
  },
  {
   "cell_type": "code",
   "execution_count": 4,
   "metadata": {},
   "outputs": [
    {
     "name": "stdout",
     "output_type": "stream",
     "text": [
      "ACGCTTGCCA inserted\n"
     ]
    }
   ],
   "source": [
    "#ANS (4)\n",
    "dna = 'ACGCTTGCCA'\n",
    "bloomfilter.prepareBloomFilter()\n",
    "bloomfilter.insert(dna)\n",
    "print(dna, 'inserted')"
   ]
  },
  {
   "cell_type": "markdown",
   "metadata": {},
   "source": [
    "**(5)** Write a method that checks if an unknown DNA string of length L is a viral DNA.  Demonstrate how to use this method with actual Python code."
   ]
  },
  {
   "cell_type": "markdown",
   "metadata": {},
   "source": [
    "## ANS(5)"
   ]
  },
  {
   "cell_type": "code",
   "execution_count": 5,
   "metadata": {},
   "outputs": [
    {
     "name": "stdout",
     "output_type": "stream",
     "text": [
      "True\n"
     ]
    }
   ],
   "source": [
    "#ANS(5)\n",
    "dna = 'ACGCTTGCCA'\n",
    "print(bloomfilter.filterCheck(dna))"
   ]
  },
  {
   "cell_type": "markdown",
   "metadata": {},
   "source": [
    "**(6)** Write an evaluation function (not part of the BloomFilter class) that generates a  viral genome containing 10,000 random DNA strings of length 100.\n",
    "\n",
    "Generate N random DNA strings of length 100, and test to see if your bloom filter work.  In particular, report the false positive probability (which is the number of false positives divided by N).\n",
    "\n",
    "To check if a query is a false positive, you should store separate those 1 millions DNA strings (viral genome) as ground truth.  The Bloom Filter won't be able to tell you for sure if a \"Yes\" query is in fact a yes.\n",
    "\n",
    "Demonstrate how to use this function.\n",
    "\n"
   ]
  },
  {
   "cell_type": "markdown",
   "metadata": {},
   "source": [
    "## ANS(6)"
   ]
  },
  {
   "cell_type": "code",
   "execution_count": 6,
   "metadata": {},
   "outputs": [
    {
     "name": "stdout",
     "output_type": "stream",
     "text": [
      "0.348\n"
     ]
    }
   ],
   "source": [
    "#ANS(6)\n",
    "N = 500\n",
    "n = 10000\n",
    "L = 100\n",
    "p = .20\n",
    "evaluate(N, n, L, p)"
   ]
  },
  {
   "cell_type": "markdown",
   "metadata": {},
   "source": [
    "Observation: .20 and .348 looks close enough! A better hash function might improve it."
   ]
  }
 ],
 "metadata": {
  "kernelspec": {
   "display_name": "Python 3",
   "language": "python",
   "name": "python3"
  },
  "language_info": {
   "codemirror_mode": {
    "name": "ipython",
    "version": 3
   },
   "file_extension": ".py",
   "mimetype": "text/x-python",
   "name": "python",
   "nbconvert_exporter": "python",
   "pygments_lexer": "ipython3",
   "version": "3.6.5"
  }
 },
 "nbformat": 4,
 "nbformat_minor": 2
}
