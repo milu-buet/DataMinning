{
 "cells": [
  {
   "cell_type": "markdown",
   "metadata": {},
   "source": [
    "Given a stream of items x1, x2, ...., what are the most popular items?\n",
    "\n",
    "Without constraints, we simply count the frequencies of each items; sort them; and keep track of \n",
    "the ones with highest frequencies.\n",
    "\n",
    "What if we can't store all frequencies?\n",
    "\n",
    "- Count frequencies of a small set of random items of the stream.\n",
    "    - we'll have to keep track of all frequencies.\n",
    "    - we'll have to keep track of top-10 highest frequencies.\n",
    "- Another idea is to use an exponentially decaying window.\n",
    "- At time t, the score of each item is defined as follows:\n",
    "\n"
   ]
  },
  {
   "cell_type": "code",
   "execution_count": null,
   "metadata": {},
   "outputs": [],
   "source": []
  }
 ],
 "metadata": {
  "kernelspec": {
   "display_name": "Python 3",
   "language": "python",
   "name": "python3"
  },
  "language_info": {
   "codemirror_mode": {
    "name": "ipython",
    "version": 3
   },
   "file_extension": ".py",
   "mimetype": "text/x-python",
   "name": "python",
   "nbconvert_exporter": "python",
   "pygments_lexer": "ipython3",
   "version": "3.6.5"
  }
 },
 "nbformat": 4,
 "nbformat_minor": 2
}
